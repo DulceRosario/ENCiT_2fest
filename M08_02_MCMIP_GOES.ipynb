{
 "cells": [
  {
   "cell_type": "markdown",
   "id": "26278fcb-ac1e-43ff-ae65-4cdaf985214e",
   "metadata": {},
   "source": [
    "# Producto CMIP del GOES-R\n",
    "\n",
    "ABI Cloud and Moisture Imagery brightness temperature at top of atmosphere\n",
    "\n",
    "El producto CMIP o MCMIP, contiene la información de reflectancia o temepratura de brillo, segun la región a la que corresponda la banda, estos son los insumos principales para las técnicas interpretación. En estos ejercicios trabajremos con los productos **MCMIPC**\n",
    "por conveniencia, ya que estos consisten en un solo archivo con las 16 bandas del sensor ABI, todas remuestreadas a una resolución de 2 kilometros aproximadamente y la región de muestreo **CONUS**.\n",
    "\n",
    "En este caso la convención empelada para codificar los nombres de las bandas es **CMI_C** y se utilizan los números del **01** al **16** para indicar la banda o canal a que corresponden. Estas no contienen ningun tipo de corrección atmosférica, aparte de la corrección por ángulo solar para las reflectancias. \n",
    "\n",
    "Estos archivos tambien incluyen una serie de variables auxilares para determinar la calidad de los datos, empezando por las variables DQF que consisten en una serie de banderas o etiquetas que te indican la calidad individual de cada uno de los pixels en la escena para la banda en cuestion. En este caso, son enteros del 0 al 4 que indican la calidad del pixel.\n",
    "\n",
    "    0. good_pixel_qf\n",
    "    1. conditionally_usable_pixel_qf\n",
    "    2. out_of_range_pixel_qf\n",
    "    3. no_value_pixel_qf\n",
    "    4. focal_plane_temperature_threshold_exceeded_qf\n"
   ]
  },
  {
   "cell_type": "code",
   "execution_count": null,
   "id": "1de6d24b-f9c3-4b92-8157-6e99ef322c3e",
   "metadata": {
    "scrolled": true
   },
   "outputs": [],
   "source": [
    "import xarray as xr\n",
    "import holoviews as hv\n",
    "import numpy as np\n",
    "\n",
    "hv.extension('bokeh')\n",
    "\n",
    "a_goes = 'datasets/OR_ABI-L2-MCMIPC-M6_G16_s20232412221172_e20232412223556_c20232412224050.nc'\n",
    "\n",
    "goes_bands = xr.open_dataset(a_goes)\n",
    "for band in range(7,16):\n",
    "    goes_bands[F'CMI_C{band:02d}']-= 273.15 # Convertir las temperaturas de brillo de Kelvin Celsius \n",
    "    goes_bands[F'CMI_C{band:02d}'].attrs['units'] = 'C' # Actualizar las unidades en el dataset\n",
    "bandas = hv.Dataset(goes_bands)\n",
    "goes_bands"
   ]
  },
  {
   "cell_type": "code",
   "execution_count": null,
   "id": "fd99566f-d3bb-4af6-b0a4-2e5e7db07280",
   "metadata": {},
   "outputs": [],
   "source": [
    "goes_bands.t.data"
   ]
  },
  {
   "cell_type": "markdown",
   "id": "29d50dcd-7b93-4972-a630-3a640feb53d2",
   "metadata": {},
   "source": [
    "## Banda 13\n",
    "\n",
    "Esta región del infrarrojo **poco sensible a la absorción del vapor de agua**, en comparación con otras regiones del espectro infrarrojo. Lo que permite identificar y clasificar nubes y estimar la temperatura de brillo del tope de las nubes, **detectar indicadores de clima extremo** y la intensidad de los huracanes. Esta banda es muy utilizada para la creación de muchos compuestos RGB.\n",
    "\n",
    "## Análisis de bandas individuales\n",
    "\n",
    "Empecemos por abrir nuevamente la banda 02 pero remuestreada a aproximadamente 2 km y observemosla junto a la banda 13\n",
    "\n",
    "Prueba cambiar las bandas que estan dezplegadas y analizá que es lo que observas. Si quieres probar otros mapas de colores puedes encontrar una lista en la documentacion de [Holoviews](https://holoviews.org/user_guide/Colormaps.html).\n",
    "\n",
    "Tambien puedes utilizar el argumento `clim` para limitar el rango de la escala de colores, todo lo que este encima o debajo del umbral se redondeara a los limites de la paleta seleccionada.\n",
    "\n",
    "Intenta  cambiar el color de la banda 13 a alguna paleta divergente y juega con `clim`."
   ]
  },
  {
   "cell_type": "code",
   "execution_count": null,
   "id": "cb327dac-8470-4199-95ad-af05c6b511f9",
   "metadata": {},
   "outputs": [],
   "source": [
    "imagen_C02 =  bandas.to(hv.Image, ['x', 'y'], 'CMI_C01')\n",
    "imagen_C13 =  bandas.to(hv.Image, ['x', 'y'], 'CMI_C13')\n",
    "\n",
    "hv.Layout(imagen_C02.opts(cmap='Greys_r', colorbar=True, width=800, height=600, clim=(0,1), tools=['hover']) + \n",
    "          imagen_C13.opts(cmap='Greys', colorbar=True, width=800, height=600, tools=['hover'])\n",
    "         ).cols(2)"
   ]
  },
  {
   "cell_type": "markdown",
   "id": "626a4af4-c1dc-4327-ad3a-0058337b8016",
   "metadata": {},
   "source": [
    "## Sobreponiendo falso color a una sola banda\n",
    "\n",
    "En este apartado crearemos una serie de productos en los cuales aplicaremos falso color para resaltar rasgos en las escenas.\n",
    "Para esta seccion utilizaremos las bandas 02 y 13 del GOES.\n",
    "\n",
    "En una figura utilizaremos la banda 02 como mapa base para sobreponer las nubes frías detectables en la banda 13 y en otra utilizaremos la banda 13 tanto como base y falso color."
   ]
  },
  {
   "cell_type": "code",
   "execution_count": null,
   "id": "df80de55-f946-4037-b543-4073d0086658",
   "metadata": {},
   "outputs": [],
   "source": [
    "composicion = goes_bands[['CMI_C02','CMI_C13']].copy()\n",
    "composicion['CMI_C13b'] = goes_bands['CMI_C13'].copy()\n",
    "composicion['CMI_C13b'].data[composicion['CMI_C13b'].data > -30] = np.nan\n",
    "hv_composicion = hv.Dataset(composicion)\n",
    "\n",
    "\n",
    "baseC02 = hv_composicion.to(hv.Image, ['x', 'y'], 'CMI_C02').opts(cmap='Greys_r', clim=(0,1))\n",
    "baseC13 = hv_composicion.to(hv.Image, ['x', 'y'], 'CMI_C13').opts(cmap='Greys', clim=(-80, 40))\n",
    "color = hv_composicion.to(hv.Image, ['x', 'y'], 'CMI_C13b').opts(cmap='rainbow_r', colorbar=True, tools=['hover'], alpha=0.5, clim=(-80, -30))\n",
    "\n",
    "hv.Layout(\n",
    "    (baseC02 * color).opts(width=800, height=600, tools=['hover']) + \n",
    "    (baseC13 * color.opts(alpha=1)).opts(width=800, height=600, tools=['hover'])\n",
    "         )"
   ]
  },
  {
   "cell_type": "markdown",
   "id": "0cfc2ad8-8476-4ce1-abf6-c0967f8aa83b",
   "metadata": {
    "jupyter": {
     "source_hidden": true
    }
   },
   "source": [
    "```{figure} img/SMN_20230829_22UTC.png\n",
    "---\n",
    "width: 50%\n",
    "name: SMN_230829.\n",
    ":align: center\n",
    "---\n",
    "Imagen intepretada del SMN a las 22UTC. _[SMN CONAGUA.](https://smn.conagua.gob.mx/tools/DATA/Formularios/Pron%C3%B3stico%20Meteorol%C3%B3gico%20General/Pron%C3%B3stico%20Meteorol%C3%B3gico%20General_6664.pdf)_\n",
    "```"
   ]
  },
  {
   "cell_type": "markdown",
   "id": "3c57f6b9-0113-44e0-a127-73a20422860e",
   "metadata": {},
   "source": [
    ":::{warning}\n",
    "Antes de cerrar este notebook, es recomendable detener, borrar todas las salidas ya que el despliegue de esta imagen hace que este notebook se vuelva muy pesado.\n",
    "\n",
    "    Kernel-->Restart Kernel and Clear Outputs of All Cells\n",
    ":::"
   ]
  }
 ],
 "metadata": {
  "kernelspec": {
   "display_name": "SAT",
   "language": "python",
   "name": "sat"
  },
  "language_info": {
   "codemirror_mode": {
    "name": "ipython",
    "version": 3
   },
   "file_extension": ".py",
   "mimetype": "text/x-python",
   "name": "python",
   "nbconvert_exporter": "python",
   "pygments_lexer": "ipython3",
   "version": "3.12.3"
  },
  "widgets": {
   "application/vnd.jupyter.widget-state+json": {
    "state": {},
    "version_major": 2,
    "version_minor": 0
   }
  }
 },
 "nbformat": 4,
 "nbformat_minor": 5
}
